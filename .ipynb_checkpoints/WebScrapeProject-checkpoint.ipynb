{
 "cells": [
  {
   "cell_type": "markdown",
   "id": "d6b4b8fa-362b-47d6-a9a7-f4cb738fd59d",
   "metadata": {},
   "source": [
    "# Scraping CoinMarketCap to produce a crypto portfolio valuation"
   ]
  },
  {
   "cell_type": "markdown",
   "id": "4e26ea58-9627-442f-8102-df802ce2c7a1",
   "metadata": {},
   "source": [
    "## Section 1. Overview and project scope"
   ]
  },
  {
   "cell_type": "markdown",
   "id": "ce3c34b0-67cb-4673-b711-6fdd12c64ec7",
   "metadata": {},
   "source": [
    "[Coinmarketcap](https://coinmarketcap.com/) is a website that provides real-time data on [cryptocurrencies](https://en.wikipedia.org/wiki/Cryptocurrency). The scope of this project is to leverage Python to:\n",
    "\n",
    "1. retrieve real-time crypto currency prices from [Coinmarketcap](https://coinmarketcap.com)\n",
    "2. retrieve real-time foreign exchange rates from [Google Finance](https://www.google.com/finance/)\n",
    "3. add struture to the retrieved data by creating custom Classes  \n",
    "4. allow the user to select a portfolio of cryptocurrencies and holdings\n",
    "5. calculate a real-time portfolio valuation based on the user selection\n",
    "6. present the portfolio valuation in a professional psql-esque tabular format"
   ]
  },
  {
   "cell_type": "markdown",
   "id": "6bf51fb1-6a20-4699-8cfc-44acfb828a0b",
   "metadata": {},
   "source": [
    "## Section 2. Import the required libraries"
   ]
  },
  {
   "cell_type": "code",
   "execution_count": 1,
   "id": "629b11a2-1496-4c16-8797-f712e447c45a",
   "metadata": {},
   "outputs": [],
   "source": [
    "import requests as r\n",
    "import re\n",
    "from bs4 import BeautifulSoup\n",
    "from dataclasses import dataclass\n",
    "from typing import List\n",
    "import datetime as dt\n",
    "from tabulate import tabulate"
   ]
  },
  {
   "cell_type": "code",
   "execution_count": 2,
   "id": "e7e39b84-a5d4-4332-ba54-12562460ed57",
   "metadata": {},
   "outputs": [],
   "source": [
    "now = dt.datetime.now()\n",
    "hour = now.hour\n",
    "minute = now.minute "
   ]
  },
  {
   "cell_type": "markdown",
   "id": "44f0fc80-8e22-4669-87b0-55bd8be74c76",
   "metadata": {},
   "source": [
    "## Section 3. Retrieving real time data "
   ]
  },
  {
   "cell_type": "markdown",
   "id": "d7c2237f-66f4-4fad-9813-ef9b680e794f",
   "metadata": {},
   "source": [
    "A modern dynamic web page generally comprises of a combination of [HTML (Hypertext Markup Lanaguage)](https://en.wikipedia.org/wiki/HTML), [CSS (Cascading Style Sheets)](https://en.wikipedia.org/wiki/CSS) and [JS (JavaScript)](https://simple.wikipedia.org/wiki/JavaScript). We can navigate this complex structure by leveraging the [Beautiful Soup](https://www.crummy.com/software/BeautifulSoup/bs4/doc/) and [Requests](https://requests.readthedocs.io/en/latest/) Python libraries.\n",
    "\n",
    "Let's illustrate how we can obtain real-time forex rates from Google Finance in just a few lines of code."
   ]
  },
  {
   "cell_type": "markdown",
   "id": "7adb6a49-cf97-4475-9c99-eec1cbec1ba8",
   "metadata": {},
   "source": [
    "### Section 3.1 Forex rates"
   ]
  },
  {
   "cell_type": "code",
   "execution_count": 3,
   "id": "0578a8e0-0e54-46dc-9443-99cffee56971",
   "metadata": {},
   "outputs": [
    {
     "data": {
      "text/plain": [
       "0.821814237"
      ]
     },
     "execution_count": 3,
     "metadata": {},
     "output_type": "execute_result"
    }
   ],
   "source": [
    "# Custom function to parse exchange rate\n",
    "def exchange_from_dollar(target_currency):\n",
    "    \n",
    "    fx_url = f\"https://www.google.com/finance/quote/USD-{target_currency}\"\n",
    "    resp = r.get(fx_url)\n",
    "    soup = BeautifulSoup(resp.content, \"html.parser\")\n",
    "    fx_rate = soup.find(\"div\", attrs={\"data-last-price\": True})\n",
    "    fx = float(fx_rate[\"data-last-price\"])\n",
    "    \n",
    "    return fx\n",
    "\n",
    "exchange_from_dollar(\"GBP\") #specify currency to convert from USD"
   ]
  },
  {
   "cell_type": "markdown",
   "id": "0b1d7e41-3fcb-481b-8d01-4b6a770f67e9",
   "metadata": {},
   "source": [
    "This rate is in line with the `USD:GBP` rate at the time of writing."
   ]
  },
  {
   "cell_type": "markdown",
   "id": "d2ad53a7-29be-4819-a82c-eb99d97be77f",
   "metadata": {},
   "source": [
    "### Section 3.2 Crypto prices"
   ]
  },
  {
   "cell_type": "markdown",
   "id": "6553ca91-db37-48e8-9928-59189f2bfda4",
   "metadata": {},
   "source": [
    "We can obtain real-time cryto prices from Coinmarketcap in a similar way."
   ]
  },
  {
   "cell_type": "code",
   "execution_count": 4,
   "id": "ceace4bd-9e68-4528-bbda-71f5d29f353a",
   "metadata": {},
   "outputs": [
    {
     "name": "stdout",
     "output_type": "stream",
     "text": [
      "The value of one unit of bitcoin at 22:43 on Friday, 17-01-2025 in GBP is 86,084.44.\n"
     ]
    }
   ],
   "source": [
    "# Parse the crypto price data\n",
    "def get_price_info(coin_symbol, target_currency):\n",
    "    \n",
    "    fx = exchange_from_dollar(target_currency)\n",
    "    url = f\"https://coinmarketcap.com/currencies/{coin_symbol}/\"\n",
    "    resp = r.get(url)\n",
    "    soup = BeautifulSoup(resp.content, \"html.parser\")\n",
    "\n",
    "    # Locate the span using the `data-test` attribute\n",
    "    price_span = soup.find(\"span\", {\"data-test\": \"text-cdp-price-display\"})\n",
    "    price_dollars = price_span.text.strip()\n",
    "    usd_price = float(re.sub(\"[^0-9.]\", \"\", price_dollars))\n",
    "    target_currency_price = round(usd_price * fx, 3)\n",
    "          \n",
    "    return {\n",
    "        \"coin_symbol\": coin_symbol,\n",
    "        \"usd_price\": usd_price,\n",
    "        \"target_currency\": target_currency,\n",
    "        \"target_currency_price\": target_currency_price        \n",
    "    }\n",
    "\n",
    "btc_price = get_price_info(\"bitcoin\", \"GBP\") # *** AMEND THIS AS REQUIRED ***\n",
    "\n",
    "print(\n",
    "    f\"The value of one unit of {btc_price['coin_symbol']} at {hour}:{minute} on {now:%A}, {now:%d-%m-%Y} in {btc_price['target_currency']} \"\n",
    "    f\"is {btc_price['target_currency_price']:,.2f}.\"\n",
    ")"
   ]
  },
  {
   "cell_type": "markdown",
   "id": "c7cb4433-3552-49c1-aabc-a58401695248",
   "metadata": {},
   "source": [
    "Wow, where is that old laptop ... !"
   ]
  },
  {
   "cell_type": "markdown",
   "id": "2eb06a97-63f1-4bcb-b912-d1354b182a81",
   "metadata": {},
   "source": [
    "OK, so this seems to be working well, but is somewhat limited at the moment. Let's scale things up to allow for a portfolio of currencies and holdings, amd add some structure to our data."
   ]
  },
  {
   "cell_type": "markdown",
   "id": "9fa5a29d-2936-48f3-99cf-b9cf301d416b",
   "metadata": {},
   "source": [
    "### Section 4. Adding Structure with Dataclasses"
   ]
  },
  {
   "cell_type": "markdown",
   "id": "3bd1e523-0591-4377-a0c9-63ce995a2de3",
   "metadata": {},
   "source": [
    "It would be helpful if we could structure and store our data relating to particular stocks and holdings in a container for easy access. We can leverage the Python [Dataclasses module](https://docs.python.org/3/library/dataclasses.html) to achieve this.  Let's illustrate by creating a custom `Coin` Class."
   ]
  },
  {
   "cell_type": "code",
   "execution_count": 5,
   "id": "abb64a09-a755-4f43-a410-3e1102a07d0b",
   "metadata": {},
   "outputs": [],
   "source": [
    "@dataclass\n",
    "class Coin:\n",
    "    coin_symbol: str\n",
    "    #price: float = 0  # default values\n",
    "    target_currency: str = \"GBP\" # *** AMEND THIS AS REQUIRED ***\n",
    "    usd_price: float = 0  # default values\n",
    "    target_currency_price: float = 0\n",
    "\n",
    "    # After initiation, prices from Google kick in\n",
    "    def __post_init__(self):  # self points to the object of type Coin\n",
    "        price_info = get_price_info(self.coin_symbol, self.target_currency)\n",
    "\n",
    "        # Only if logic is true, otherwise proceed with default values\n",
    "        if price_info[\"coin_symbol\"] == self.coin_symbol:\n",
    "            self.usd_price = price_info[\"usd_price\"]\n",
    "            self.target_currency_price = price_info[\"target_currency_price\"]"
   ]
  },
  {
   "cell_type": "markdown",
   "id": "fcbb13e3-1ad1-4c8a-917a-5920ea5e3543",
   "metadata": {},
   "source": [
    "Given that our aim is ultimately to value a portfolio of crypto coin holdings, next we will create a `Position` Class to store the stock holdings."
   ]
  },
  {
   "cell_type": "code",
   "execution_count": 6,
   "id": "2b52775a-c987-4170-989b-723af512133a",
   "metadata": {},
   "outputs": [],
   "source": [
    "@dataclass\n",
    "class Position:\n",
    "    coin: Coin # as previously defined\n",
    "    quantity: float"
   ]
  },
  {
   "cell_type": "markdown",
   "id": "9f502718-b206-4a2a-bb6b-abe468eef655",
   "metadata": {},
   "source": [
    "Finally, let's create a further Class called `Portfolio`."
   ]
  },
  {
   "cell_type": "code",
   "execution_count": 7,
   "id": "4fa1978c-6a33-430e-9755-342c72b1db81",
   "metadata": {},
   "outputs": [],
   "source": [
    "@dataclass\n",
    "class Portfolio:\n",
    "    positions: List[Position]\n",
    "\n",
    "    def get_total_value(self):\n",
    "        total_value = 0\n",
    "\n",
    "        for position in self.positions:\n",
    "            \n",
    "            total_value += position.quantity * position.coin.target_currency_price\n",
    "            \n",
    "        return total_value"
   ]
  },
  {
   "attachments": {},
   "cell_type": "markdown",
   "id": "a720725a-9fa3-491a-93d3-1428d974e099",
   "metadata": {},
   "source": [
    "Now let's create an arbitrary user selection portfolio and perform a sanity check on the calculated market value. Let's look at the top 3 coins at the time of writing.\n",
    "\n",
    "- Bitcoin £85,999\n",
    "- Ethereum £2,882\n",
    "- XRP - £3\n",
    "\n",
    "Almost £89k. Let's check our calculation."
   ]
  },
  {
   "cell_type": "code",
   "execution_count": 8,
   "id": "14f6f691-5750-4f57-8690-6417b5d846a2",
   "metadata": {},
   "outputs": [
    {
     "name": "stdout",
     "output_type": "stream",
     "text": [
      "The total value of your portfolio at 22:43 on Friday, 17-01-2025 is GBP 88,948.56.\n"
     ]
    }
   ],
   "source": [
    "if __name__ == \"__main__\":\n",
    "\n",
    "    # Arbitrary user selected portfolio - *** AMEND AS REQUIRED ***\n",
    "    bitcoin = Coin(\"bitcoin\", \"GBP\") \n",
    "    ethereum  = Coin(\"ethereum\", \"GBP\") \n",
    "    xrp = Coin(\"xrp\", \"GBP\") \n",
    "    \n",
    "    portfolio = Portfolio([Position(bitcoin, 1), Position(ethereum, 1), Position(xrp,1)])  \n",
    "    portfolio_value = portfolio.get_total_value()\n",
    "          \n",
    "    print(f\"The total value of your portfolio at {hour}:{minute} on {now:%A}, {now:%d-%m-%Y} is {Coin.target_currency} {portfolio_value:,.2f}.\")"
   ]
  },
  {
   "cell_type": "markdown",
   "id": "27711687-aaea-4c0f-b5ba-393378a76c49",
   "metadata": {},
   "source": [
    "Excellent, that's in line - prices are extremely volatile. So, that's us done in terms of scraping the data, and creating custom classes to store our data. The final step is to present the data in a more aesthetic way."
   ]
  },
  {
   "cell_type": "markdown",
   "id": "e0f51ce8-3eaa-4fe3-bbef-c0d6bd620cfb",
   "metadata": {},
   "source": [
    "### Section 5. Tabular Display"
   ]
  },
  {
   "cell_type": "markdown",
   "id": "7b57f1e9-3928-4c10-9b72-4088558ae829",
   "metadata": {},
   "source": [
    "[python-tabulate](https://pypi.org/project/tabulate/)\n",
    "\n",
    "Pretty-print tabular data in Python, a library and a command-line utility.\n",
    "\n",
    "The main use cases of the library are: \n",
    "\n",
    "- printing small tables without hassle: just one function call, formatting is guided by the data itself\n",
    "- authoring tabular data for lightweight plain-text markup: multiple output formats suitable for further editing or transformation\n",
    "- readable presentation of mixed textual and numeric data: smart column alignment, configurable number formatting, alignment by a decimal point"
   ]
  },
  {
   "cell_type": "markdown",
   "id": "fc3cb56f-80c5-42f4-bd09-ee8fbe549748",
   "metadata": {},
   "source": [
    "Let's create another helper function to calculate the portfolio valuation."
   ]
  },
  {
   "cell_type": "code",
   "execution_count": 9,
   "id": "48f3d9b8-a550-4299-a305-394b48f7ce53",
   "metadata": {},
   "outputs": [],
   "source": [
    "def display_portfolio_summary(portfolio):\n",
    "\n",
    "    if not isinstance(portfolio, Portfolio):\n",
    "        raise TypeError(\"Please provide an instance of the Portfolio type\")\n",
    "\n",
    "    portfolio_value = portfolio.get_total_value()\n",
    "\n",
    "    position_data = []\n",
    "\n",
    "    for position in sorted(portfolio.positions, key=lambda x: x.quantity * x.coin.target_currency_price,\n",
    "                          reverse=True\n",
    "                          ):\n",
    "        \n",
    "        position_data.append([\n",
    "            position.coin.coin_symbol,\n",
    "            position.quantity,\n",
    "            position.coin.target_currency_price,\n",
    "            position.quantity * position.coin.target_currency_price,\n",
    "            position.quantity * position.coin.target_currency_price / portfolio_value * 100\n",
    "        ])\n",
    "\n",
    "    print(tabulate(position_data,\n",
    "                   headers=[\"Coin\",\n",
    "                            \"Holding\",\n",
    "                            \"Price\",\n",
    "                            \"Market Value\",\n",
    "                            \"% Allocation\"],\n",
    "                   tablefmt=\"psql\",\n",
    "                   floatfmt=\".2f\"  \n",
    "                  ))\n",
    "\n",
    "    print(f\"The total value of your portfolio at {hour}:{minute} on {now:%A}, {now:%d-%m-%Y} is {Coin.target_currency} {portfolio_value:,.2f}.\")"
   ]
  },
  {
   "cell_type": "code",
   "execution_count": 10,
   "id": "95cb5bbd-6b2e-4498-934b-16f57f920716",
   "metadata": {},
   "outputs": [
    {
     "name": "stdout",
     "output_type": "stream",
     "text": [
      "+----------+-----------+----------+----------------+----------------+\n",
      "| Coin     |   Holding |    Price |   Market Value |   % Allocation |\n",
      "|----------+-----------+----------+----------------+----------------|\n",
      "| bitcoin  |         1 | 86084.44 |       86084.44 |          96.78 |\n",
      "| ethereum |         1 |  2861.42 |        2861.42 |           3.22 |\n",
      "| xrp      |         1 |     2.70 |           2.70 |           0.00 |\n",
      "+----------+-----------+----------+----------------+----------------+\n",
      "The total value of your portfolio at 22:43 on Friday, 17-01-2025 is GBP 88,948.56.\n"
     ]
    }
   ],
   "source": [
    "if __name__ == \"__main__\":\n",
    "\n",
    "    # Arbitrary user selected portfolio - amend as required\n",
    "    bitcoin = Coin(\"bitcoin\", \"GBP\")\n",
    "    ethereum  = Coin(\"ethereum\", \"GBP\")\n",
    "    xrp = Coin(\"xrp\", \"GBP\")\n",
    "      \n",
    "    portfolio = Portfolio([Position(bitcoin, 1), Position(ethereum, 1), Position(xrp,1)]) # arbitrary user selected holdings - amend as required     \n",
    "    \n",
    "    display_portfolio_summary(portfolio)      "
   ]
  }
 ],
 "metadata": {
  "kernelspec": {
   "display_name": "Python 3 (ipykernel)",
   "language": "python",
   "name": "python3"
  },
  "language_info": {
   "codemirror_mode": {
    "name": "ipython",
    "version": 3
   },
   "file_extension": ".py",
   "mimetype": "text/x-python",
   "name": "python",
   "nbconvert_exporter": "python",
   "pygments_lexer": "ipython3",
   "version": "3.8.10"
  },
  "widgets": {
   "application/vnd.jupyter.widget-state+json": {
    "state": {},
    "version_major": 2,
    "version_minor": 0
   }
  }
 },
 "nbformat": 4,
 "nbformat_minor": 5
}
