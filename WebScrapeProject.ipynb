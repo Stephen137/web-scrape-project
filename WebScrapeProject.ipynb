{
 "cells": [
  {
   "cell_type": "markdown",
   "id": "d6b4b8fa-362b-47d6-a9a7-f4cb738fd59d",
   "metadata": {},
   "source": [
    "## Scraping CoinMarketCap to produce a crypto portfolio valuation"
   ]
  },
  {
   "cell_type": "markdown",
   "id": "4e26ea58-9627-442f-8102-df802ce2c7a1",
   "metadata": {},
   "source": [
    "### Section 1. Overview and project scope"
   ]
  },
  {
   "cell_type": "markdown",
   "id": "ce3c34b0-67cb-4673-b711-6fdd12c64ec7",
   "metadata": {},
   "source": [
    "[Coinmarketcap](https://coinmarketcap.com/) is a website that provides real-time data on [cryptocurrencies](https://en.wikipedia.org/wiki/Cryptocurrency). The scope of this project is to leverage Python to:\n",
    "\n",
    "1. retrieve real-time crypto currency prices from [Coinmarketcap](https://coinmarketcap.com)\n",
    "2. retrieve real-time foreign exchange rates from [Google Finance](https://www.google.com/finance/)\n",
    "3. add struture to the retrieved data by creating custom Classes  \n",
    "4. allow the user to select a portfolio of cryptocurrencies and holdings\n",
    "5. provide a real-time portfolio valuation based on the user selelction"
   ]
  },
  {
   "cell_type": "markdown",
   "id": "6bf51fb1-6a20-4699-8cfc-44acfb828a0b",
   "metadata": {},
   "source": [
    "### Section 2. Import the required libraries"
   ]
  },
  {
   "cell_type": "code",
   "execution_count": 1,
   "id": "629b11a2-1496-4c16-8797-f712e447c45a",
   "metadata": {},
   "outputs": [],
   "source": [
    "import requests as r\n",
    "import re\n",
    "from bs4 import BeautifulSoup\n",
    "from dataclasses import dataclass\n",
    "from typing import List\n",
    "import datetime as dt"
   ]
  },
  {
   "cell_type": "code",
   "execution_count": 2,
   "id": "e7e39b84-a5d4-4332-ba54-12562460ed57",
   "metadata": {},
   "outputs": [
    {
     "name": "stdout",
     "output_type": "stream",
     "text": [
      "2025-01-17 14:42:26.131420\n"
     ]
    }
   ],
   "source": [
    "now = dt.datetime.now()\n",
    "print(now)"
   ]
  }
 ],
 "metadata": {
  "kernelspec": {
   "display_name": "Python 3 (ipykernel)",
   "language": "python",
   "name": "python3"
  },
  "language_info": {
   "codemirror_mode": {
    "name": "ipython",
    "version": 3
   },
   "file_extension": ".py",
   "mimetype": "text/x-python",
   "name": "python",
   "nbconvert_exporter": "python",
   "pygments_lexer": "ipython3",
   "version": "3.8.10"
  },
  "widgets": {
   "application/vnd.jupyter.widget-state+json": {
    "state": {},
    "version_major": 2,
    "version_minor": 0
   }
  }
 },
 "nbformat": 4,
 "nbformat_minor": 5
}
