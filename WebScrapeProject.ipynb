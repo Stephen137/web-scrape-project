{
 "cells": [
  {
   "cell_type": "markdown",
   "id": "d6b4b8fa-362b-47d6-a9a7-f4cb738fd59d",
   "metadata": {},
   "source": [
    "# Scraping CoinMarketCap to produce a crypto portfolio valuation"
   ]
  },
  {
   "cell_type": "markdown",
   "id": "4e26ea58-9627-442f-8102-df802ce2c7a1",
   "metadata": {},
   "source": [
    "## Section 1. Overview and project scope"
   ]
  },
  {
   "cell_type": "markdown",
   "id": "ce3c34b0-67cb-4673-b711-6fdd12c64ec7",
   "metadata": {},
   "source": [
    "[Coinmarketcap](https://coinmarketcap.com/) is a website that provides real-time data on [cryptocurrencies](https://en.wikipedia.org/wiki/Cryptocurrency). The scope of this project is to leverage Python to:\n",
    "\n",
    "1. retrieve real-time crypto currency prices from [Coinmarketcap](https://coinmarketcap.com)\n",
    "2. retrieve real-time foreign exchange rates from [Google Finance](https://www.google.com/finance/)\n",
    "3. add struture to the retrieved data by creating custom Classes  \n",
    "4. allow the user to select a portfolio of cryptocurrencies and holdings\n",
    "5. provide a real-time portfolio valuation based on the user selelction"
   ]
  },
  {
   "cell_type": "markdown",
   "id": "6bf51fb1-6a20-4699-8cfc-44acfb828a0b",
   "metadata": {},
   "source": [
    "## Section 2. Import the required libraries"
   ]
  },
  {
   "cell_type": "code",
   "execution_count": 1,
   "id": "629b11a2-1496-4c16-8797-f712e447c45a",
   "metadata": {},
   "outputs": [],
   "source": [
    "import requests as r\n",
    "import re\n",
    "from bs4 import BeautifulSoup\n",
    "from dataclasses import dataclass\n",
    "from typing import List\n",
    "import datetime as dt"
   ]
  },
  {
   "cell_type": "code",
   "execution_count": 2,
   "id": "e7e39b84-a5d4-4332-ba54-12562460ed57",
   "metadata": {},
   "outputs": [
    {
     "name": "stdout",
     "output_type": "stream",
     "text": [
      "2025-01-17 15:32:26.737067\n"
     ]
    }
   ],
   "source": [
    "now = dt.datetime.now()\n",
    "print(now)"
   ]
  },
  {
   "cell_type": "markdown",
   "id": "44f0fc80-8e22-4669-87b0-55bd8be74c76",
   "metadata": {},
   "source": [
    "## Section 3. Retrieving real time data "
   ]
  },
  {
   "cell_type": "markdown",
   "id": "d7c2237f-66f4-4fad-9813-ef9b680e794f",
   "metadata": {},
   "source": [
    "A modern dynamic web page generally comprises of a combination of [HTML (Hypertext Markup Lanaguage)](https://en.wikipedia.org/wiki/HTML), [CSS (Cascading Style Sheets)](https://en.wikipedia.org/wiki/CSS) and [JS (JavaScript)](https://simple.wikipedia.org/wiki/JavaScript). We can navigate this complex structure by leveraging the [Beautiful Soup](https://www.crummy.com/software/BeautifulSoup/bs4/doc/) and [Requests](https://requests.readthedocs.io/en/latest/) Python libraries.\n",
    "\n",
    "Let's illustrate how we can obtain real-time forex rates from Google Finance in just a few lines of code."
   ]
  },
  {
   "cell_type": "markdown",
   "id": "7adb6a49-cf97-4475-9c99-eec1cbec1ba8",
   "metadata": {},
   "source": [
    "### Section 3.1 Forex rates"
   ]
  },
  {
   "cell_type": "code",
   "execution_count": 3,
   "id": "0578a8e0-0e54-46dc-9443-99cffee56971",
   "metadata": {},
   "outputs": [
    {
     "data": {
      "text/plain": [
       "0.820915"
      ]
     },
     "execution_count": 3,
     "metadata": {},
     "output_type": "execute_result"
    }
   ],
   "source": [
    "# Custom function to parse exchange rate\n",
    "def exchange_from_dollar(target_currency):\n",
    "    \n",
    "    fx_url = f\"https://www.google.com/finance/quote/USD-{target_currency}\"\n",
    "    resp = r.get(fx_url)\n",
    "    soup = BeautifulSoup(resp.content, \"html.parser\")\n",
    "    fx_rate = soup.find(\"div\", attrs={\"data-last-price\": True})\n",
    "    fx = float(fx_rate[\"data-last-price\"])\n",
    "    \n",
    "    return fx\n",
    "\n",
    "exchange_from_dollar(\"GBP\") #specify currency to convert from USD"
   ]
  },
  {
   "cell_type": "markdown",
   "id": "d2ad53a7-29be-4819-a82c-eb99d97be77f",
   "metadata": {},
   "source": [
    "### Section 3.2 Crypto prices"
   ]
  },
  {
   "cell_type": "markdown",
   "id": "6553ca91-db37-48e8-9928-59189f2bfda4",
   "metadata": {},
   "source": [
    "We can obtain real-time cryto prices from Coinmarketcap in a similar way."
   ]
  },
  {
   "cell_type": "code",
   "execution_count": 4,
   "id": "ceace4bd-9e68-4528-bbda-71f5d29f353a",
   "metadata": {},
   "outputs": [
    {
     "name": "stdout",
     "output_type": "stream",
     "text": [
      "The value of one unit of bitcoin on Friday, 17-01-2025 in GBP is 84,278.44.\n"
     ]
    }
   ],
   "source": [
    "# Parse the crypto price data\n",
    "def get_price_info(coin_symbol, target_currency):\n",
    "    \n",
    "    fx = exchange_from_dollar(target_currency)\n",
    "    url = f\"https://coinmarketcap.com/currencies/{coin_symbol}/\"\n",
    "    resp = r.get(url)\n",
    "    soup = BeautifulSoup(resp.content, \"html.parser\")\n",
    "\n",
    "    # Locate the span using the `data-test` attribute\n",
    "    price_span = soup.find(\"span\", {\"data-test\": \"text-cdp-price-display\"})\n",
    "    price_dollars = price_span.text.strip()\n",
    "    usd_price = float(re.sub(\"[^0-9.]\", \"\", price_dollars))\n",
    "    target_currency_price = round(usd_price * fx, 3)\n",
    "\n",
    "    return {\n",
    "        \"coin_symbol\": coin_symbol,\n",
    "        \"usd_price\": usd_price,\n",
    "        \"target_currency\": target_currency,\n",
    "        \"target_currency_price\": target_currency_price        \n",
    "    }\n",
    "\n",
    "\n",
    "btc_price_gbp = get_price_info(\"bitcoin\", \"GBP\")\n",
    "print(\n",
    "    f\"The value of one unit of {btc_price_gbp['coin_symbol']} on {now:%A}, {now:%d-%m-%Y} in {btc_price_gbp['target_currency']} \"\n",
    "    f\"is {btc_price_gbp['target_currency_price']:,.2f}.\"\n",
    ")"
   ]
  },
  {
   "cell_type": "markdown",
   "id": "c7cb4433-3552-49c1-aabc-a58401695248",
   "metadata": {},
   "source": [
    "Nearly £85k. Now, where is that old laptop ... !"
   ]
  },
  {
   "cell_type": "markdown",
   "id": "2eb06a97-63f1-4bcb-b912-d1354b182a81",
   "metadata": {},
   "source": [
    "OK, so this seems to be working well, but is somewhat limited at the moment. Let's scale things up to allow for a portfolio of currencies and holdings, amd add some structure to our data."
   ]
  },
  {
   "cell_type": "markdown",
   "id": "9fa5a29d-2936-48f3-99cf-b9cf301d416b",
   "metadata": {},
   "source": [
    "### Section 4 Adding Structure with Dataclasses"
   ]
  }
 ],
 "metadata": {
  "kernelspec": {
   "display_name": "Python 3 (ipykernel)",
   "language": "python",
   "name": "python3"
  },
  "language_info": {
   "codemirror_mode": {
    "name": "ipython",
    "version": 3
   },
   "file_extension": ".py",
   "mimetype": "text/x-python",
   "name": "python",
   "nbconvert_exporter": "python",
   "pygments_lexer": "ipython3",
   "version": "3.8.10"
  },
  "widgets": {
   "application/vnd.jupyter.widget-state+json": {
    "state": {},
    "version_major": 2,
    "version_minor": 0
   }
  }
 },
 "nbformat": 4,
 "nbformat_minor": 5
}
